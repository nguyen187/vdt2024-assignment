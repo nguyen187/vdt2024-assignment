{
 "cells": [
  {
   "cell_type": "code",
   "execution_count": 1,
   "metadata": {},
   "outputs": [
    {
     "name": "stdout",
     "output_type": "stream",
     "text": [
      "Collecting pyspark\n",
      "  Downloading pyspark-3.5.1.tar.gz (317.0 MB)\n",
      "\u001b[2K     \u001b[38;2;114;156;31m━━━━━━━━━━━━━━━━━━━━━━━━━━━━━━━━━━━━━━━\u001b[0m \u001b[32m317.0/317.0 MB\u001b[0m \u001b[31m4.5 MB/s\u001b[0m eta \u001b[36m0:00:00\u001b[0mm eta \u001b[36m0:00:01\u001b[0m[36m0:00:01\u001b[0m\n",
      "\u001b[?25h  Preparing metadata (setup.py) ... \u001b[?25ldone\n",
      "\u001b[?25hCollecting py4j==0.10.9.7 (from pyspark)\n",
      "  Downloading py4j-0.10.9.7-py2.py3-none-any.whl.metadata (1.5 kB)\n",
      "Downloading py4j-0.10.9.7-py2.py3-none-any.whl (200 kB)\n",
      "\u001b[2K   \u001b[38;2;114;156;31m━━━━━━━━━━━━━━━━━━━━━━━━━━━━━━━━━━━━━━━━\u001b[0m \u001b[32m200.5/200.5 kB\u001b[0m \u001b[31m6.1 MB/s\u001b[0m eta \u001b[36m0:00:00\u001b[0m\n",
      "\u001b[?25hBuilding wheels for collected packages: pyspark\n",
      "  Building wheel for pyspark (setup.py) ... \u001b[?25ldone\n",
      "\u001b[?25h  Created wheel for pyspark: filename=pyspark-3.5.1-py2.py3-none-any.whl size=317488491 sha256=888a4dadf9f5600b842e074e0a2c8a0d82a4fd248aed134ac1effb7a89edee15\n",
      "  Stored in directory: /home/ng/.cache/pip/wheels/b1/91/5f/283b53010a8016a4ff1c4a1edd99bbe73afacb099645b5471b\n",
      "Successfully built pyspark\n",
      "Installing collected packages: py4j, pyspark\n",
      "Successfully installed py4j-0.10.9.7 pyspark-3.5.1\n"
     ]
    }
   ],
   "source": [
    "!pip install pyspark"
   ]
  },
  {
   "cell_type": "code",
   "execution_count": 56,
   "metadata": {},
   "outputs": [],
   "source": [
    "\n",
    "from pyspark.sql import SparkSession\n",
    "\n",
    "from pyspark.sql.types import StructType\n",
    "from pyspark.sql import SparkSession\n",
    "from pyspark.sql.functions import *\n"
   ]
  },
  {
   "cell_type": "code",
   "execution_count": 2,
   "metadata": {},
   "outputs": [
    {
     "name": "stderr",
     "output_type": "stream",
     "text": [
      "24/06/12 02:39:09 WARN Utils: Your hostname, ng-virtual-machine resolves to a loopback address: 127.0.1.1; using 192.168.117.128 instead (on interface ens33)\n",
      "24/06/12 02:39:09 WARN Utils: Set SPARK_LOCAL_IP if you need to bind to another address\n",
      "Setting default log level to \"WARN\".\n",
      "To adjust logging level use sc.setLogLevel(newLevel). For SparkR, use setLogLevel(newLevel).\n",
      "24/06/12 02:39:22 WARN NativeCodeLoader: Unable to load native-hadoop library for your platform... using builtin-java classes where applicable\n"
     ]
    }
   ],
   "source": [
    "# Tạo một SparkSession\n",
    "spark = SparkSession.builder \\\n",
    "    .appName(\"VDT DE 2024\") \\\n",
    "    .getOrCreate()"
   ]
  },
  {
   "cell_type": "code",
   "execution_count": 5,
   "metadata": {},
   "outputs": [],
   "source": [
    "#write file danh_sach_sv\n",
    "ds = spark.read.csv(\"./data/danh_sach_sv_de.csv\", header=True, inferSchema=True)\n",
    "ds.coalesce(1).write.mode('overwrite').option('header','true').csv('hdfs://localhost:9010/raw_zone/fact/ds_de_vdt/danh_sach_sv_de.csv')"
   ]
  },
  {
   "cell_type": "code",
   "execution_count": 6,
   "metadata": {},
   "outputs": [],
   "source": [
    "studentActivity = StructType() \\\n",
    "                    \t.add(\"student_code\", \"integer\")\\\n",
    "                    \t.add(\"activity\", \"string\")\\\n",
    "                    \t.add(\"numberOfFile\", \"integer\")\\\n",
    "                    \t.add(\"timestamp\", \"string\")\n",
    "\n"
   ]
  },
  {
   "cell_type": "code",
   "execution_count": 22,
   "metadata": {},
   "outputs": [
    {
     "name": "stdout",
     "output_type": "stream",
     "text": [
      "+------------+--------+------------+---------+\n",
      "|student_code|activity|numberOfFile|timestamp|\n",
      "+------------+--------+------------+---------+\n",
      "|          17| execute|          10|6/13/2024|\n",
      "|          11| execute|           9|6/13/2024|\n",
      "|          31| execute|           2|6/15/2024|\n",
      "|           3| execute|           9|6/13/2024|\n",
      "|          28| execute|           8|6/14/2024|\n",
      "|           5| execute|           3|6/10/2024|\n",
      "|          24| execute|           8|6/12/2024|\n",
      "|          28| execute|           4|6/14/2024|\n",
      "|          16| execute|           9|6/13/2024|\n",
      "|          33| execute|           1|6/10/2024|\n",
      "|           8| execute|           2|6/14/2024|\n",
      "|          13| execute|          10|6/14/2024|\n",
      "|          37| execute|           9|6/12/2024|\n",
      "|          38| execute|           9|6/11/2024|\n",
      "|          30| execute|           2|6/15/2024|\n",
      "|          39| execute|           1|6/13/2024|\n",
      "|          32| execute|           5|6/10/2024|\n",
      "|          19| execute|           5|6/14/2024|\n",
      "|           2| execute|           1|6/12/2024|\n",
      "|          27| execute|          10|6/12/2024|\n",
      "+------------+--------+------------+---------+\n",
      "only showing top 20 rows\n",
      "\n"
     ]
    },
    {
     "name": "stderr",
     "output_type": "stream",
     "text": [
      "                                                                                \r"
     ]
    }
   ],
   "source": [
    "\n",
    "\n",
    "# Đường dẫn tới file Parquet trong HDFS\n",
    "parquet_file_path = \"hdfs://localhost:9010/raw_zone/fact/activity/\"\n",
    "\n",
    "# Đọc file Parquet từ HDFS\n",
    "df = spark.read.schema(schema=studentActivity).parquet(parquet_file_path)\n",
    "\n",
    "\n",
    "df.show()\n",
    "\n"
   ]
  },
  {
   "cell_type": "code",
   "execution_count": 23,
   "metadata": {},
   "outputs": [],
   "source": [
    "df1 = df"
   ]
  },
  {
   "cell_type": "code",
   "execution_count": 28,
   "metadata": {},
   "outputs": [
    {
     "name": "stderr",
     "output_type": "stream",
     "text": [
      "                                                                                \r"
     ]
    },
    {
     "data": {
      "text/plain": [
       "400"
      ]
     },
     "execution_count": 28,
     "metadata": {},
     "output_type": "execute_result"
    }
   ],
   "source": [
    "df1.count()"
   ]
  },
  {
   "cell_type": "code",
   "execution_count": 60,
   "metadata": {},
   "outputs": [
    {
     "name": "stdout",
     "output_type": "stream",
     "text": [
      "+------------+--------+------------+---------+\n",
      "|student_code|activity|numberOfFile|timestamp|\n",
      "+------------+--------+------------+---------+\n",
      "|          17| execute|          10| 20240613|\n",
      "|          11| execute|           9| 20240613|\n",
      "|          31| execute|           2| 20240615|\n",
      "|           3| execute|           9| 20240613|\n",
      "|          28| execute|           8| 20240614|\n",
      "|           5| execute|           3| 20240610|\n",
      "|          24| execute|           8| 20240612|\n",
      "|          28| execute|           4| 20240614|\n",
      "|          16| execute|           9| 20240613|\n",
      "|          33| execute|           1| 20240610|\n",
      "|           8| execute|           2| 20240614|\n",
      "|          13| execute|          10| 20240614|\n",
      "|          37| execute|           9| 20240612|\n",
      "|          38| execute|           9| 20240611|\n",
      "|          30| execute|           2| 20240615|\n",
      "|          39| execute|           1| 20240613|\n",
      "|          32| execute|           5| 20240610|\n",
      "|          19| execute|           5| 20240614|\n",
      "|           2| execute|           1| 20240612|\n",
      "|          27| execute|          10| 20240612|\n",
      "+------------+--------+------------+---------+\n",
      "only showing top 20 rows\n",
      "\n"
     ]
    }
   ],
   "source": [
    "df= df.withColumn(\"timestamp\", date_format(to_date(df[\"timestamp\"], \"M/d/yyyy\"), \"yyyyMMdd\"))\n",
    "df.show()"
   ]
  },
  {
   "cell_type": "code",
   "execution_count": 62,
   "metadata": {},
   "outputs": [
    {
     "name": "stderr",
     "output_type": "stream",
     "text": [
      "[Stage 85:===========================================>            (10 + 3) / 13]\r"
     ]
    },
    {
     "name": "stdout",
     "output_type": "stream",
     "text": [
      "+------------+--------+---------+-----------+\n",
      "|student_code|activity|timestamp|total_files|\n",
      "+------------+--------+---------+-----------+\n",
      "|          16| execute| 20240613|          9|\n",
      "|          11| execute| 20240613|         17|\n",
      "|          24| execute| 20240612|         18|\n",
      "|          12| execute| 20240611|         16|\n",
      "|          17| execute| 20240613|         13|\n",
      "|           8| execute| 20240614|          6|\n",
      "|          31| execute| 20240615|          9|\n",
      "|          39| execute| 20240613|          6|\n",
      "|          13| execute| 20240614|         26|\n",
      "|          37| execute| 20240612|          9|\n",
      "|          17| execute| 20240610|         14|\n",
      "|          32| execute| 20240610|          5|\n",
      "|          19| execute| 20240612|          4|\n",
      "|           3| execute| 20240613|          9|\n",
      "|          31| execute| 20240614|          5|\n",
      "|          21| execute| 20240611|         10|\n",
      "|          19| execute| 20240615|         15|\n",
      "|          19| execute| 20240614|          5|\n",
      "|          36| execute| 20240611|          3|\n",
      "|           2| execute| 20240612|          1|\n",
      "+------------+--------+---------+-----------+\n",
      "only showing top 20 rows\n",
      "\n"
     ]
    },
    {
     "name": "stderr",
     "output_type": "stream",
     "text": [
      "                                                                                \r"
     ]
    }
   ],
   "source": [
    "df_procesed = df.groupBy(\"student_code\", \"activity\", \"timestamp\").agg(sum(\"numberOfFile\").alias(\"total_files\"))\n",
    "df_procesed.show()"
   ]
  },
  {
   "cell_type": "code",
   "execution_count": 63,
   "metadata": {},
   "outputs": [
    {
     "name": "stdout",
     "output_type": "stream",
     "text": [
      "+----+--------------------+\n",
      "|code|                name|\n",
      "+----+--------------------+\n",
      "|   1|          Mai Đức An|\n",
      "|   2|      Nguyễn Mai Anh|\n",
      "|   3|   Ngô Ngọc Tuấn Anh|\n",
      "|   4|      Trần Trung Anh|\n",
      "|   5|       Trần Ngọc Bảo|\n",
      "|   6|  Nguyễn Vũ Hòa Bình|\n",
      "|   7|    Nguyễn Thành Đạt|\n",
      "|   8|        Đỗ Thành Đạt|\n",
      "|   9|    Nguyễn Khoa Đoàn|\n",
      "|  10|    Nguyễn Quốc Dũng|\n",
      "|  11|     Đường Minh Quân|\n",
      "|  12|   Dương Quang Giang|\n",
      "|  13|    Nguyễn Minh Hiếu|\n",
      "|  14|        Ngô Phi Hùng|\n",
      "|  15|Nguyễn Đình Thiên...|\n",
      "|  16|        Đỗ Doãn Khắc|\n",
      "|  17|      Châu Minh Khải|\n",
      "|  18|      Phạm Đình Khôi|\n",
      "|  19|        Lê Bảo Khánh|\n",
      "|  20|        Lê Minh Phúc|\n",
      "+----+--------------------+\n",
      "only showing top 20 rows\n",
      "\n"
     ]
    }
   ],
   "source": [
    "schema_ds_de = StructType() \\\n",
    "                    \t.add(\"code\", \"integer\")\\\n",
    "                    \t.add(\"name\", \"string\")\n",
    "ds_de = spark.read.schema(schema=schema_ds_de).csv(\"hdfs://localhost:9010/raw_zone/fact/ds_de_vdt/danh_sach_sv_de.csv\")\n",
    "ds_de.show()"
   ]
  },
  {
   "cell_type": "code",
   "execution_count": 64,
   "metadata": {},
   "outputs": [
    {
     "name": "stderr",
     "output_type": "stream",
     "text": [
      "[Stage 90:=======================================>                 (9 + 4) / 13]\r"
     ]
    },
    {
     "name": "stdout",
     "output_type": "stream",
     "text": [
      "+---------+----+-------------------+--------+-----------+\n",
      "|timestamp|code|               name|activity|total_files|\n",
      "+---------+----+-------------------+--------+-----------+\n",
      "| 20240613|  16|       Đỗ Doãn Khắc| execute|          9|\n",
      "| 20240613|  11|    Đường Minh Quân| execute|         17|\n",
      "| 20240612|  24|    Nguyễn Hoài Nam| execute|         18|\n",
      "| 20240611|  12|  Dương Quang Giang| execute|         16|\n",
      "| 20240613|  17|     Châu Minh Khải| execute|         13|\n",
      "| 20240614|   8|       Đỗ Thành Đạt| execute|          6|\n",
      "| 20240615|  31|        Tạ Đức Tiến| execute|          9|\n",
      "| 20240613|  39|      Huỳnh Đoan Hồ| execute|          6|\n",
      "| 20240614|  13|   Nguyễn Minh Hiếu| execute|         26|\n",
      "| 20240612|  37|         Đào Anh Vũ| execute|          9|\n",
      "| 20240610|  17|     Châu Minh Khải| execute|         14|\n",
      "| 20240610|  32|    Đinh Việt Thành| execute|          5|\n",
      "| 20240612|  19|       Lê Bảo Khánh| execute|          4|\n",
      "| 20240613|   3|  Ngô Ngọc Tuấn Anh| execute|          9|\n",
      "| 20240614|  31|        Tạ Đức Tiến| execute|          5|\n",
      "| 20240611|  21|Trần Phúc Mạnh Linh| execute|         10|\n",
      "| 20240615|  19|       Lê Bảo Khánh| execute|         15|\n",
      "| 20240614|  19|       Lê Bảo Khánh| execute|          5|\n",
      "| 20240611|  36|       Vũ Khắc Long| execute|          3|\n",
      "| 20240612|   2|     Nguyễn Mai Anh| execute|          1|\n",
      "+---------+----+-------------------+--------+-----------+\n",
      "only showing top 20 rows\n",
      "\n"
     ]
    },
    {
     "name": "stderr",
     "output_type": "stream",
     "text": [
      "                                                                                \r"
     ]
    }
   ],
   "source": [
    "ans = ds_de.join(df_procesed,ds_de.code ==  df_procesed.student_code,\"inner\").select('timestamp','code','name','activity','total_files')\n",
    "ans.show()"
   ]
  },
  {
   "cell_type": "code",
   "execution_count": 81,
   "metadata": {},
   "outputs": [
    {
     "name": "stderr",
     "output_type": "stream",
     "text": [
      "[Stage 150:==============================================>        (11 + 2) / 13]\r"
     ]
    },
    {
     "name": "stdout",
     "output_type": "stream",
     "text": [
      "['Huỳnh Minh Tú', 'Trần Trung Anh', 'Vũ Hữu Sỹ', 'Đỗ Doãn Khắc', 'Nguyễn Địch Nhật Minh', 'Ngô Ngọc Tuấn Anh', 'Dương Quang Giang', 'Nguyễn Mai Anh', 'Phạm Đình Khôi', 'Châu Minh Khải', 'Ngô Phi Hùng', 'Nguyễn Duy Hưng', 'Đào Thanh Nguyên', 'Lê Minh Phúc', 'Nguyễn Thành Đạt', 'Nguyễn Đình Thiên Huy', 'Đường Minh Quân', 'Nguyễn Hoài Nam', 'Tạ Đức Tiến', 'Nguyễn Thị Thùy Trang', 'Lê Bảo Khánh', 'Phùng Huy Quang', 'Nguyễn Minh Tuấn', 'Trần Phúc Mạnh Linh', 'Nguyễn Bá Thiêm', 'Nguyễn Minh Quân', 'Nguyễn Minh Hiếu', 'Lương Thị Mai Phương', 'Nguyễn Khoa Đoàn', 'Huỳnh Tấn Lộc', 'Vũ Khắc Long', 'Nguyễn Vũ Hòa Bình', 'Đinh Việt Thành', 'Huỳnh Đoan Hồ', 'Trần Ngọc Bảo', 'Mai Đức An', 'Nguyễn Quốc Dũng', 'Đỗ Thành Đạt', 'Đào Anh Vũ']\n"
     ]
    },
    {
     "name": "stderr",
     "output_type": "stream",
     "text": [
      "                                                                                \r"
     ]
    }
   ],
   "source": [
    "names = [row.name for row in ans.select(\"name\").distinct().collect()]\n",
    "print(names)"
   ]
  },
  {
   "cell_type": "code",
   "execution_count": 92,
   "metadata": {},
   "outputs": [
    {
     "name": "stderr",
     "output_type": "stream",
     "text": [
      "                                                                                \r"
     ]
    }
   ],
   "source": [
    "for name in names:\n",
    "    df_filtered = ans.filter(ans.name == name)\n",
    "    df_filtered.toPandas().to_csv(f\"./output/{name}.csv\",header=False,index=False)\n",
    "    # df_filtered.write.csv()"
   ]
  }
 ],
 "metadata": {
  "kernelspec": {
   "display_name": "base",
   "language": "python",
   "name": "python3"
  },
  "language_info": {
   "codemirror_mode": {
    "name": "ipython",
    "version": 3
   },
   "file_extension": ".py",
   "mimetype": "text/x-python",
   "name": "python",
   "nbconvert_exporter": "python",
   "pygments_lexer": "ipython3",
   "version": "3.1.undefined"
  }
 },
 "nbformat": 4,
 "nbformat_minor": 2
}
